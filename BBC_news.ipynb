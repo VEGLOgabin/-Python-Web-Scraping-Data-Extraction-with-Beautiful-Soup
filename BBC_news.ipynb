{
 "cells": [
  {
   "cell_type": "code",
   "execution_count": 1,
   "id": "1d81e8ea",
   "metadata": {},
   "outputs": [],
   "source": [
    "import requests as rq\n",
    "from bs4 import BeautifulSoup as bs"
   ]
  },
  {
   "cell_type": "code",
   "execution_count": 2,
   "id": "71a5d718",
   "metadata": {},
   "outputs": [],
   "source": [
    "#Url we are going to use to scrape BBC last news\n",
    "url = \"https://www.bbc.com/news\""
   ]
  },
  {
   "cell_type": "code",
   "execution_count": 3,
   "id": "245061c3",
   "metadata": {},
   "outputs": [],
   "source": [
    "response = rq.get(url)"
   ]
  },
  {
   "cell_type": "code",
   "execution_count": 4,
   "id": "b1365f2a",
   "metadata": {},
   "outputs": [
    {
     "name": "stdout",
     "output_type": "stream",
     "text": [
      "<Response [200]>\n"
     ]
    }
   ],
   "source": [
    "#Check status of the response\n",
    "print(response)"
   ]
  },
  {
   "cell_type": "code",
   "execution_count": 5,
   "id": "4d3e83b4",
   "metadata": {},
   "outputs": [],
   "source": [
    "#Now , the status of the response is 200, this means that the resquests module successfully get the response\n",
    "row_code = response.text"
   ]
  },
  {
   "cell_type": "code",
   "execution_count": 6,
   "id": "8e55fe55",
   "metadata": {},
   "outputs": [],
   "source": [
    "soup = bs(row_code, 'html.parser')"
   ]
  },
  {
   "cell_type": "code",
   "execution_count": 7,
   "id": "f43d4744",
   "metadata": {},
   "outputs": [
    {
     "data": {
      "text/plain": [
       "'Home - BBC News'"
      ]
     },
     "execution_count": 7,
     "metadata": {},
     "output_type": "execute_result"
    }
   ],
   "source": [
    "soup.title.text"
   ]
  },
  {
   "cell_type": "code",
   "execution_count": 8,
   "id": "ecd3c2f1",
   "metadata": {},
   "outputs": [
    {
     "data": {
      "text/plain": [
       "'UN Security Council resolution calls for Gaza ceasefire'"
      ]
     },
     "execution_count": 8,
     "metadata": {},
     "output_type": "execute_result"
    }
   ],
   "source": [
    "soup.h2.text"
   ]
  },
  {
   "cell_type": "code",
   "execution_count": 9,
   "id": "ccc03540",
   "metadata": {},
   "outputs": [
    {
     "data": {
      "text/plain": [
       "74"
      ]
     },
     "execution_count": 9,
     "metadata": {},
     "output_type": "execute_result"
    }
   ],
   "source": [
    "len(soup.find_all(\"h2\"))"
   ]
  },
  {
   "cell_type": "code",
   "execution_count": 10,
   "id": "ecbff382",
   "metadata": {},
   "outputs": [
    {
     "data": {
      "text/plain": [
       "74"
      ]
     },
     "execution_count": 10,
     "metadata": {},
     "output_type": "execute_result"
    }
   ],
   "source": [
    "len(soup.select('h2'))"
   ]
  },
  {
   "cell_type": "code",
   "execution_count": 11,
   "id": "1f4c9263",
   "metadata": {},
   "outputs": [
    {
     "data": {
      "text/plain": [
       "'UN Security Council resolution calls for Gaza ceasefire'"
      ]
     },
     "execution_count": 11,
     "metadata": {},
     "output_type": "execute_result"
    }
   ],
   "source": [
    "soup.select(\"h2\")[0].text"
   ]
  },
  {
   "cell_type": "code",
   "execution_count": 12,
   "id": "6e761a7b",
   "metadata": {},
   "outputs": [
    {
     "data": {
      "text/plain": [
       "'UN Security Council resolution calls for Gaza ceasefire'"
      ]
     },
     "execution_count": 12,
     "metadata": {},
     "output_type": "execute_result"
    }
   ],
   "source": [
    "soup.select_one(\"h2\").text"
   ]
  },
  {
   "cell_type": "code",
   "execution_count": 13,
   "id": "44ec6b08",
   "metadata": {},
   "outputs": [
    {
     "data": {
      "text/plain": [
       "'UN Security Council resolution calls for Gaza ceasefire'"
      ]
     },
     "execution_count": 13,
     "metadata": {},
     "output_type": "execute_result"
    }
   ],
   "source": [
    "soup.find(\"h2\").text"
   ]
  },
  {
   "cell_type": "code",
   "execution_count": 14,
   "id": "75d7434f",
   "metadata": {},
   "outputs": [],
   "source": [
    "response2 = rq.get(\"https://beautiful-soup-4.readthedocs.io/en/latest/\")"
   ]
  },
  {
   "cell_type": "code",
   "execution_count": 15,
   "id": "62114dd8",
   "metadata": {},
   "outputs": [],
   "source": [
    "row_code2 = response2.text"
   ]
  },
  {
   "cell_type": "code",
   "execution_count": 16,
   "id": "9af8573b",
   "metadata": {},
   "outputs": [],
   "source": [
    "soup2 = bs(row_code2, 'html.parser')"
   ]
  },
  {
   "cell_type": "code",
   "execution_count": 18,
   "id": "ae509596",
   "metadata": {},
   "outputs": [
    {
     "data": {
      "text/plain": [
       "'Beautiful Soup Documentation — Beautiful Soup 4.4.0 documentation'"
      ]
     },
     "execution_count": 18,
     "metadata": {},
     "output_type": "execute_result"
    }
   ],
   "source": [
    "soup2.title.text"
   ]
  },
  {
   "cell_type": "code",
   "execution_count": 23,
   "id": "b4c3db15",
   "metadata": {},
   "outputs": [
    {
     "data": {
      "text/plain": [
       "[<h1>Copying Beautiful Soup objects<a class=\"headerlink\" href=\"#copying-beautiful-soup-objects\" title=\"Permalink to this headline\">Â¶</a></h1>]"
      ]
     },
     "execution_count": 23,
     "metadata": {},
     "output_type": "execute_result"
    }
   ],
   "source": [
    "soup2.select(\"#copying-beautiful-soup-objects h1\")# select all h1 element directly inside the div with the id=\"copying-beautiful-soup-objects\" and all others h1 inside div with div parent id = \"copying-beautiful-soup-objects\""
   ]
  },
  {
   "cell_type": "code",
   "execution_count": 22,
   "id": "b8d0066d",
   "metadata": {},
   "outputs": [
    {
     "data": {
      "text/plain": [
       "[<h1>Copying Beautiful Soup objects<a class=\"headerlink\" href=\"#copying-beautiful-soup-objects\" title=\"Permalink to this headline\">Â¶</a></h1>]"
      ]
     },
     "execution_count": 22,
     "metadata": {},
     "output_type": "execute_result"
    }
   ],
   "source": [
    "soup2.select(\"#copying-beautiful-soup-objects > h1\")# select just all h1 element directly inside the div with the id=\"copying-beautiful-soup-objects\""
   ]
  }
 ],
 "metadata": {
  "kernelspec": {
   "display_name": "Python 3 (ipykernel)",
   "language": "python",
   "name": "python3"
  },
  "language_info": {
   "codemirror_mode": {
    "name": "ipython",
    "version": 3
   },
   "file_extension": ".py",
   "mimetype": "text/x-python",
   "name": "python",
   "nbconvert_exporter": "python",
   "pygments_lexer": "ipython3",
   "version": "3.11.4"
  }
 },
 "nbformat": 4,
 "nbformat_minor": 5
}
