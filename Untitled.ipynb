{
 "cells": [
  {
   "cell_type": "code",
   "execution_count": 1,
   "id": "8f53a53a",
   "metadata": {},
   "outputs": [],
   "source": [
    "import requests as rq\n",
    "from bs4 import BeautifulSoup as bs"
   ]
  },
  {
   "cell_type": "code",
   "execution_count": 2,
   "id": "0d19e291",
   "metadata": {},
   "outputs": [],
   "source": [
    "url = \"https://www.upwork.com/freelance-jobs/data-scraping/\""
   ]
  },
  {
   "cell_type": "code",
   "execution_count": 5,
   "id": "bac9a95d",
   "metadata": {},
   "outputs": [],
   "source": [
    "resp = rq.get(url)"
   ]
  },
  {
   "cell_type": "code",
   "execution_count": 7,
   "id": "94d5ea36",
   "metadata": {},
   "outputs": [],
   "source": [
    "soup = bs(resp.text, \"lxml\")"
   ]
  },
  {
   "cell_type": "code",
   "execution_count": 8,
   "id": "8657b2c5",
   "metadata": {},
   "outputs": [
    {
     "data": {
      "text/plain": [
       "'Just a moment...'"
      ]
     },
     "execution_count": 8,
     "metadata": {},
     "output_type": "execute_result"
    }
   ],
   "source": [
    "soup.title.text"
   ]
  },
  {
   "cell_type": "code",
   "execution_count": null,
   "id": "16de3817",
   "metadata": {},
   "outputs": [],
   "source": []
  }
 ],
 "metadata": {
  "kernelspec": {
   "display_name": "Python 3 (ipykernel)",
   "language": "python",
   "name": "python3"
  },
  "language_info": {
   "codemirror_mode": {
    "name": "ipython",
    "version": 3
   },
   "file_extension": ".py",
   "mimetype": "text/x-python",
   "name": "python",
   "nbconvert_exporter": "python",
   "pygments_lexer": "ipython3",
   "version": "3.11.4"
  }
 },
 "nbformat": 4,
 "nbformat_minor": 5
}
