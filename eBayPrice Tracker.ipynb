{
 "cells": [
  {
   "cell_type": "code",
   "execution_count": 2,
   "id": "f9caec02",
   "metadata": {},
   "outputs": [],
   "source": [
    "import requests\n",
    "from bs4 import BeautifulSoup"
   ]
  },
  {
   "cell_type": "code",
   "execution_count": 3,
   "id": "78eca1f3",
   "metadata": {},
   "outputs": [
    {
     "name": "stdout",
     "output_type": "stream",
     "text": [
      "<Response [200]>\n"
     ]
    }
   ],
   "source": [
    "url = \"https://www.ebay.com/itm/275894715017?epid=15056259255&hash=item403c9b4289:g:uWkAAOSwA7hjiSOq&amdata=enc%3AAQAIAAAAwPHKpTn9%2FZrWMxnrdgi1ZxXuTMfiEU8WP99uBlQ4rCKulWyN9xoVTLrACREnfaa7P1xtM7LoiM1M9f3zqqk8H9hOpsU4VtQpNnjBpxnhO1vvcPhRJuQY72wrtMfnYmQD%2BN%2FQsCvq%2F5FVkk9qReGjQvtVpdklTuuTlS80FkoME7jDural4lgCe%2BMMHTLAILh5FZt0kHByJk53fHVoZmrkIVRCqND%2B6FK%2FpAb%2BCOYWwJBx%2BODCSEMMba1PXNzMBO5i2A%3D%3D%7Ctkp%3ABk9SR5axsOWfYg\"\n",
    "res = requests.get(url)\n",
    "print(res)"
   ]
  },
  {
   "cell_type": "code",
   "execution_count": 15,
   "id": "568aa639",
   "metadata": {},
   "outputs": [],
   "source": [
    "soup = BeautifulSoup(res.text, 'lxml')\n",
    "unedited = soup.select(\".x-price-primary .ux-textspans\")\n",
    "uneditedPrice = unedited[0]\n",
    "uneditedPrice = uneditedPrice.text"
   ]
  },
  {
   "cell_type": "code",
   "execution_count": 25,
   "id": "49da83f7",
   "metadata": {},
   "outputs": [],
   "source": [
    "formattedPrice = uneditedPrice[4:]\n",
    "formattedPrice = formattedPrice.replace(\",\", \"\")\n",
    "actual_price = float(formattedPrice)"
   ]
  },
  {
   "cell_type": "code",
   "execution_count": 27,
   "id": "93913396",
   "metadata": {},
   "outputs": [
    {
     "name": "stdout",
     "output_type": "stream",
     "text": [
      "The price is below your budget, go grab them\n"
     ]
    }
   ],
   "source": [
    "myPrice = 1000\n",
    "if actual_price < myPrice:\n",
    "    print(\"The price is below your budget, go grab them\")"
   ]
  },
  {
   "cell_type": "code",
   "execution_count": null,
   "id": "de2b8f5d",
   "metadata": {},
   "outputs": [],
   "source": []
  }
 ],
 "metadata": {
  "kernelspec": {
   "display_name": "Python 3 (ipykernel)",
   "language": "python",
   "name": "python3"
  },
  "language_info": {
   "codemirror_mode": {
    "name": "ipython",
    "version": 3
   },
   "file_extension": ".py",
   "mimetype": "text/x-python",
   "name": "python",
   "nbconvert_exporter": "python",
   "pygments_lexer": "ipython3",
   "version": "3.11.4"
  }
 },
 "nbformat": 4,
 "nbformat_minor": 5
}
