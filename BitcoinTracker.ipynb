{
 "cells": [
  {
   "cell_type": "code",
   "execution_count": 1,
   "id": "6a8e583b",
   "metadata": {},
   "outputs": [],
   "source": [
    "import requests\n",
    "from bs4 import BeautifulSoup"
   ]
  },
  {
   "cell_type": "code",
   "execution_count": 2,
   "id": "73a4b13d",
   "metadata": {},
   "outputs": [],
   "source": [
    "url = \"https://www.binance.com/en/price/bitcoin\"\n",
    "response = requests.get(url)"
   ]
  },
  {
   "cell_type": "code",
   "execution_count": 3,
   "id": "4090475d",
   "metadata": {},
   "outputs": [],
   "source": [
    "soup = BeautifulSoup(response.text, \"lxml\")"
   ]
  },
  {
   "cell_type": "code",
   "execution_count": 4,
   "id": "cd2cc0ee",
   "metadata": {},
   "outputs": [
    {
     "name": "stdout",
     "output_type": "stream",
     "text": [
      "USD $26,340.96\n"
     ]
    }
   ],
   "source": [
    "uneditedPrice = soup.find(class_=\"css-zo19gu\").text\n",
    "print(uneditedPrice)"
   ]
  },
  {
   "cell_type": "code",
   "execution_count": 7,
   "id": "4be76869",
   "metadata": {},
   "outputs": [
    {
     "name": "stdout",
     "output_type": "stream",
     "text": [
      "26340.96\n"
     ]
    }
   ],
   "source": [
    "formattedPrice = uneditedPrice[5:]\n",
    "price = float(formattedPrice.replace(\",\", \"\"))\n",
    "print(price)"
   ]
  },
  {
   "cell_type": "code",
   "execution_count": 10,
   "id": "209ea865",
   "metadata": {},
   "outputs": [
    {
     "name": "stdout",
     "output_type": "stream",
     "text": [
      "The current price for 1BTC is USD $26,340.96\n"
     ]
    }
   ],
   "source": [
    "myIdealPrice = 27000\n",
    "if price <= myIdealPrice:\n",
    "    print(f\"The current price for 1BTC is {uneditedPrice}\")\n"
   ]
  },
  {
   "cell_type": "code",
   "execution_count": null,
   "id": "3aebbe63",
   "metadata": {},
   "outputs": [],
   "source": []
  }
 ],
 "metadata": {
  "kernelspec": {
   "display_name": "Python 3 (ipykernel)",
   "language": "python",
   "name": "python3"
  },
  "language_info": {
   "codemirror_mode": {
    "name": "ipython",
    "version": 3
   },
   "file_extension": ".py",
   "mimetype": "text/x-python",
   "name": "python",
   "nbconvert_exporter": "python",
   "pygments_lexer": "ipython3",
   "version": "3.9.12"
  }
 },
 "nbformat": 4,
 "nbformat_minor": 5
}
