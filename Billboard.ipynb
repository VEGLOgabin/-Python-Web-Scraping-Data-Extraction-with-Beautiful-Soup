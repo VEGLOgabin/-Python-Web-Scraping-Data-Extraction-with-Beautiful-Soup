{
 "cells": [
  {
   "cell_type": "code",
   "execution_count": 1,
   "id": "f5e5fdd4",
   "metadata": {},
   "outputs": [],
   "source": [
    "import requests\n",
    "from bs4 import BeautifulSoup"
   ]
  },
  {
   "cell_type": "code",
   "execution_count": 2,
   "id": "f1bf0105",
   "metadata": {},
   "outputs": [],
   "source": [
    "url = \"https://www.billboard.com/charts/billboard-200/\"\n",
    "response = requests.get(url)"
   ]
  },
  {
   "cell_type": "code",
   "execution_count": 3,
   "id": "bbf0f955",
   "metadata": {},
   "outputs": [],
   "source": [
    "soup = BeautifulSoup(response.text, \"lxml\")"
   ]
  },
  {
   "cell_type": "code",
   "execution_count": 11,
   "id": "308c1570",
   "metadata": {},
   "outputs": [],
   "source": [
    "song_title = soup.select('li h3')"
   ]
  },
  {
   "cell_type": "code",
   "execution_count": 12,
   "id": "999978d5",
   "metadata": {},
   "outputs": [
    {
     "name": "stdout",
     "output_type": "stream",
     "text": [
      "['One Thing At A Time', 'The Show', 'Stick Season', 'Midnights', 'Spider-Man: Across The Spider-Verse: Metro Boomin Presents (Soundtrack)', '5-Star: The 3rd Album', 'Almost Healed', 'SOS', 'Dangerous: The Double Album', 'Lover', \"Gettin' Old\", 'Weathervanes', 'Hard To Love', 'Un Verano Sin Ti', 'Folklore', 'American Heartbreak', 'The Age Of Pleasure', 'Heroes & Villains', 'Whitsitt Chapel', '1989']\n"
     ]
    }
   ],
   "source": [
    "top_20 = [song.string[14:][0:-5] for song in song_title[:20]]\n",
    "print(top_20)"
   ]
  },
  {
   "cell_type": "code",
   "execution_count": 13,
   "id": "fd595464",
   "metadata": {},
   "outputs": [],
   "source": [
    "playlist = []\n",
    "for i in range(0, 20):\n",
    "    song = {\n",
    "        \"name\": top_20[i]\n",
    "    }\n",
    "    playlist.append(song)"
   ]
  },
  {
   "cell_type": "code",
   "execution_count": 17,
   "id": "1ec5d463",
   "metadata": {},
   "outputs": [
    {
     "name": "stdout",
     "output_type": "stream",
     "text": [
      "1) One Thing At A Time\n",
      "2) The Show\n",
      "3) Stick Season\n",
      "4) Midnights\n",
      "5) Spider-Man: Across The Spider-Verse: Metro Boomin Presents (Soundtrack)\n",
      "6) 5-Star: The 3rd Album\n",
      "7) Almost Healed\n",
      "8) SOS\n",
      "9) Dangerous: The Double Album\n",
      "10) Lover\n",
      "11) Gettin' Old\n",
      "12) Weathervanes\n",
      "13) Hard To Love\n",
      "14) Un Verano Sin Ti\n",
      "15) Folklore\n",
      "16) American Heartbreak\n",
      "17) The Age Of Pleasure\n",
      "18) Heroes & Villains\n",
      "19) Whitsitt Chapel\n",
      "20) 1989\n"
     ]
    }
   ],
   "source": [
    "i = 0\n",
    "for song in top_20:\n",
    "    i = i + 1\n",
    "    print(f\"{i}) {song}\")"
   ]
  },
  {
   "cell_type": "code",
   "execution_count": null,
   "id": "53bec8a1",
   "metadata": {},
   "outputs": [],
   "source": [
    "\n",
    "\n"
   ]
  },
  {
   "cell_type": "code",
   "execution_count": null,
   "id": "5f315e9c",
   "metadata": {},
   "outputs": [],
   "source": []
  }
 ],
 "metadata": {
  "kernelspec": {
   "display_name": "Python 3 (ipykernel)",
   "language": "python",
   "name": "python3"
  },
  "language_info": {
   "codemirror_mode": {
    "name": "ipython",
    "version": 3
   },
   "file_extension": ".py",
   "mimetype": "text/x-python",
   "name": "python",
   "nbconvert_exporter": "python",
   "pygments_lexer": "ipython3",
   "version": "3.11.4"
  }
 },
 "nbformat": 4,
 "nbformat_minor": 5
}
