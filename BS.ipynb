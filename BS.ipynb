{
 "cells": [
  {
   "cell_type": "code",
   "execution_count": 1,
   "id": "a1c08d5c",
   "metadata": {},
   "outputs": [],
   "source": [
    "import requests\n",
    "from bs4 import BeautifulSoup"
   ]
  },
  {
   "cell_type": "code",
   "execution_count": 2,
   "id": "36d0602f",
   "metadata": {},
   "outputs": [],
   "source": [
    "url = \"https://beautiful-soup-4.readthedocs.io/en/latest/\"\n",
    "response = requests.get(url)"
   ]
  },
  {
   "cell_type": "code",
   "execution_count": 3,
   "id": "cc2583c1",
   "metadata": {},
   "outputs": [],
   "source": [
    "raw_code = response.text"
   ]
  },
  {
   "cell_type": "code",
   "execution_count": 4,
   "id": "735570a0",
   "metadata": {},
   "outputs": [],
   "source": [
    "soup = BeautifulSoup(raw_code, \"html.parser\")"
   ]
  },
  {
   "cell_type": "code",
   "execution_count": 29,
   "id": "a01f965c",
   "metadata": {},
   "outputs": [
    {
     "name": "stdout",
     "output_type": "stream",
     "text": [
      "Beautiful Soup Documentation — Beautiful Soup 4.4.0 documentation\n"
     ]
    }
   ],
   "source": [
    "print(soup.title.string)"
   ]
  },
  {
   "cell_type": "code",
   "execution_count": 27,
   "id": "54e2e6e6",
   "metadata": {},
   "outputs": [
    {
     "name": "stdout",
     "output_type": "stream",
     "text": [
      "<h2>Getting help<a class=\"headerlink\" href=\"#getting-help\" title=\"Permalink to this headline\">Â¶</a></h2>\n"
     ]
    }
   ],
   "source": [
    "print(soup.h2)"
   ]
  },
  {
   "cell_type": "code",
   "execution_count": 46,
   "id": "5be93c5b",
   "metadata": {},
   "outputs": [],
   "source": [
    "var_1 = soup.find(\"title\")\n"
   ]
  },
  {
   "cell_type": "code",
   "execution_count": 47,
   "id": "bd0a1200",
   "metadata": {},
   "outputs": [],
   "source": [
    "var_2 = soup.find_all(\"a\")"
   ]
  },
  {
   "cell_type": "code",
   "execution_count": 48,
   "id": "5490b7bb",
   "metadata": {},
   "outputs": [],
   "source": [
    "var_3 = soup.find(id=\"quick-start\")"
   ]
  },
  {
   "cell_type": "code",
   "execution_count": 49,
   "id": "eb6f9370",
   "metadata": {},
   "outputs": [],
   "source": [
    "var_4 = soup.find_all(class_=\"section\")"
   ]
  },
  {
   "cell_type": "raw",
   "id": "7f541637",
   "metadata": {},
   "source": []
  },
  {
   "cell_type": "code",
   "execution_count": 53,
   "id": "77d96eba",
   "metadata": {},
   "outputs": [],
   "source": [
    "var_5 = soup.select(\"h2\")"
   ]
  },
  {
   "cell_type": "code",
   "execution_count": 54,
   "id": "710c2925",
   "metadata": {},
   "outputs": [],
   "source": [
    "var_6 = soup.select(\"#quick-start\")"
   ]
  },
  {
   "cell_type": "code",
   "execution_count": 57,
   "id": "9ad72ae5",
   "metadata": {},
   "outputs": [],
   "source": [
    "var_7 = soup.select(\".section\")"
   ]
  },
  {
   "cell_type": "code",
   "execution_count": 65,
   "id": "e9a59250",
   "metadata": {},
   "outputs": [],
   "source": [
    "var_8 = soup.select(\"#making-the-soup > h1\")"
   ]
  },
  {
   "cell_type": "code",
   "execution_count": 67,
   "id": "fd38c9a7",
   "metadata": {},
   "outputs": [
    {
     "name": "stdout",
     "output_type": "stream",
     "text": [
      "[<a class=\"icon icon-home\" href=\"#\"> Beautiful Soup\n",
      "          \n",
      "\n",
      "          \n",
      "          </a>, <a class=\"reference internal\" href=\"#\">Beautiful Soup Documentation</a>, <a class=\"reference internal\" href=\"#getting-help\">Getting help</a>, <a class=\"reference internal\" href=\"#quick-start\">Quick Start</a>, <a class=\"reference internal\" href=\"#installing-beautiful-soup\">Installing Beautiful Soup</a>, <a class=\"reference internal\" href=\"#problems-after-installation\">Problems after installation</a>, <a class=\"reference internal\" href=\"#installing-a-parser\">Installing a parser</a>, <a class=\"reference internal\" href=\"#making-the-soup\">Making the soup</a>, <a class=\"reference internal\" href=\"#kinds-of-objects\">Kinds of objects</a>, <a class=\"reference internal\" href=\"#tag\"><code class=\"docutils literal notranslate\"><span class=\"pre\">Tag</span></code></a>, <a class=\"reference internal\" href=\"#name\">Name</a>, <a class=\"reference internal\" href=\"#attributes\">Attributes</a>, <a class=\"reference internal\" href=\"#multi-valued-attributes\">Multi-valued attributes</a>, <a class=\"reference internal\" href=\"#navigablestring\"><code class=\"docutils literal notranslate\"><span class=\"pre\">NavigableString</span></code></a>, <a class=\"reference internal\" href=\"#beautifulsoup\"><code class=\"docutils literal notranslate\"><span class=\"pre\">BeautifulSoup</span></code></a>, <a class=\"reference internal\" href=\"#comments-and-other-special-strings\">Comments and other special strings</a>, <a class=\"reference internal\" href=\"#navigating-the-tree\">Navigating the tree</a>, <a class=\"reference internal\" href=\"#going-down\">Going down</a>, <a class=\"reference internal\" href=\"#navigating-using-tag-names\">Navigating using tag names</a>, <a class=\"reference internal\" href=\"#contents-and-children\"><code class=\"docutils literal notranslate\"><span class=\"pre\">.contents</span></code> and <code class=\"docutils literal notranslate\"><span class=\"pre\">.children</span></code></a>, <a class=\"reference internal\" href=\"#descendants\"><code class=\"docutils literal notranslate\"><span class=\"pre\">.descendants</span></code></a>, <a class=\"reference internal\" href=\"#string\"><code class=\"docutils literal notranslate\"><span class=\"pre\">.string</span></code></a>, <a class=\"reference internal\" href=\"#strings-and-stripped-strings\"><code class=\"docutils literal notranslate\"><span class=\"pre\">.strings</span></code> and <code class=\"docutils literal notranslate\"><span class=\"pre\">stripped_strings</span></code></a>, <a class=\"reference internal\" href=\"#going-up\">Going up</a>, <a class=\"reference internal\" href=\"#parent\"><code class=\"docutils literal notranslate\"><span class=\"pre\">.parent</span></code></a>, <a class=\"reference internal\" href=\"#parents\"><code class=\"docutils literal notranslate\"><span class=\"pre\">.parents</span></code></a>, <a class=\"reference internal\" href=\"#going-sideways\">Going sideways</a>, <a class=\"reference internal\" href=\"#next-sibling-and-previous-sibling\"><code class=\"docutils literal notranslate\"><span class=\"pre\">.next_sibling</span></code> and <code class=\"docutils literal notranslate\"><span class=\"pre\">.previous_sibling</span></code></a>, <a class=\"reference internal\" href=\"#next-siblings-and-previous-siblings\"><code class=\"docutils literal notranslate\"><span class=\"pre\">.next_siblings</span></code> and <code class=\"docutils literal notranslate\"><span class=\"pre\">.previous_siblings</span></code></a>, <a class=\"reference internal\" href=\"#going-back-and-forth\">Going back and forth</a>, <a class=\"reference internal\" href=\"#next-element-and-previous-element\"><code class=\"docutils literal notranslate\"><span class=\"pre\">.next_element</span></code> and <code class=\"docutils literal notranslate\"><span class=\"pre\">.previous_element</span></code></a>, <a class=\"reference internal\" href=\"#next-elements-and-previous-elements\"><code class=\"docutils literal notranslate\"><span class=\"pre\">.next_elements</span></code> and <code class=\"docutils literal notranslate\"><span class=\"pre\">.previous_elements</span></code></a>, <a class=\"reference internal\" href=\"#searching-the-tree\">Searching the tree</a>, <a class=\"reference internal\" href=\"#kinds-of-filters\">Kinds of filters</a>, <a class=\"reference internal\" href=\"#a-string\">A string</a>, <a class=\"reference internal\" href=\"#a-regular-expression\">A regular expression</a>, <a class=\"reference internal\" href=\"#a-list\">A list</a>, <a class=\"reference internal\" href=\"#true\"><code class=\"docutils literal notranslate\"><span class=\"pre\">True</span></code></a>, <a class=\"reference internal\" href=\"#a-function\">A function</a>, <a class=\"reference internal\" href=\"#find-all\"><code class=\"docutils literal notranslate\"><span class=\"pre\">find_all()</span></code></a>, <a class=\"reference internal\" href=\"#the-name-argument\">The <code class=\"docutils literal notranslate\"><span class=\"pre\">name</span></code> argument</a>, <a class=\"reference internal\" href=\"#the-keyword-arguments\">The keyword arguments</a>, <a class=\"reference internal\" href=\"#searching-by-css-class\">Searching by CSS class</a>, <a class=\"reference internal\" href=\"#the-string-argument\">The <code class=\"docutils literal notranslate\"><span class=\"pre\">string</span></code> argument</a>, <a class=\"reference internal\" href=\"#the-limit-argument\">The <code class=\"docutils literal notranslate\"><span class=\"pre\">limit</span></code> argument</a>, <a class=\"reference internal\" href=\"#the-recursive-argument\">The <code class=\"docutils literal notranslate\"><span class=\"pre\">recursive</span></code> argument</a>, <a class=\"reference internal\" href=\"#calling-a-tag-is-like-calling-find-all\">Calling a tag is like calling <code class=\"docutils literal notranslate\"><span class=\"pre\">find_all()</span></code></a>, <a class=\"reference internal\" href=\"#find\"><code class=\"docutils literal notranslate\"><span class=\"pre\">find()</span></code></a>, <a class=\"reference internal\" href=\"#find-parents-and-find-parent\"><code class=\"docutils literal notranslate\"><span class=\"pre\">find_parents()</span></code> and <code class=\"docutils literal notranslate\"><span class=\"pre\">find_parent()</span></code></a>, <a class=\"reference internal\" href=\"#find-next-siblings-and-find-next-sibling\"><code class=\"docutils literal notranslate\"><span class=\"pre\">find_next_siblings()</span></code> and <code class=\"docutils literal notranslate\"><span class=\"pre\">find_next_sibling()</span></code></a>, <a class=\"reference internal\" href=\"#find-previous-siblings-and-find-previous-sibling\"><code class=\"docutils literal notranslate\"><span class=\"pre\">find_previous_siblings()</span></code> and <code class=\"docutils literal notranslate\"><span class=\"pre\">find_previous_sibling()</span></code></a>, <a class=\"reference internal\" href=\"#find-all-next-and-find-next\"><code class=\"docutils literal notranslate\"><span class=\"pre\">find_all_next()</span></code> and <code class=\"docutils literal notranslate\"><span class=\"pre\">find_next()</span></code></a>, <a class=\"reference internal\" href=\"#find-all-previous-and-find-previous\"><code class=\"docutils literal notranslate\"><span class=\"pre\">find_all_previous()</span></code> and <code class=\"docutils literal notranslate\"><span class=\"pre\">find_previous()</span></code></a>, <a class=\"reference internal\" href=\"#css-selectors\">CSS selectors</a>, <a class=\"reference internal\" href=\"#modifying-the-tree\">Modifying the tree</a>, <a class=\"reference internal\" href=\"#changing-tag-names-and-attributes\">Changing tag names and attributes</a>, <a class=\"reference internal\" href=\"#modifying-string\">Modifying <code class=\"docutils literal notranslate\"><span class=\"pre\">.string</span></code></a>, <a class=\"reference internal\" href=\"#append\"><code class=\"docutils literal notranslate\"><span class=\"pre\">append()</span></code></a>, <a class=\"reference internal\" href=\"#extend\"><code class=\"docutils literal notranslate\"><span class=\"pre\">extend()</span></code></a>, <a class=\"reference internal\" href=\"#navigablestring-and-new-tag\"><code class=\"docutils literal notranslate\"><span class=\"pre\">NavigableString()</span></code> and <code class=\"docutils literal notranslate\"><span class=\"pre\">.new_tag()</span></code></a>, <a class=\"reference internal\" href=\"#insert\"><code class=\"docutils literal notranslate\"><span class=\"pre\">insert()</span></code></a>, <a class=\"reference internal\" href=\"#insert-before-and-insert-after\"><code class=\"docutils literal notranslate\"><span class=\"pre\">insert_before()</span></code> and <code class=\"docutils literal notranslate\"><span class=\"pre\">insert_after()</span></code></a>, <a class=\"reference internal\" href=\"#clear\"><code class=\"docutils literal notranslate\"><span class=\"pre\">clear()</span></code></a>, <a class=\"reference internal\" href=\"#extract\"><code class=\"docutils literal notranslate\"><span class=\"pre\">extract()</span></code></a>, <a class=\"reference internal\" href=\"#decompose\"><code class=\"docutils literal notranslate\"><span class=\"pre\">decompose()</span></code></a>, <a class=\"reference internal\" href=\"#replace-with\"><code class=\"docutils literal notranslate\"><span class=\"pre\">replace_with()</span></code></a>, <a class=\"reference internal\" href=\"#wrap\"><code class=\"docutils literal notranslate\"><span class=\"pre\">wrap()</span></code></a>, <a class=\"reference internal\" href=\"#unwrap\"><code class=\"docutils literal notranslate\"><span class=\"pre\">unwrap()</span></code></a>, <a class=\"reference internal\" href=\"#smooth\"><code class=\"docutils literal notranslate\"><span class=\"pre\">smooth()</span></code></a>, <a class=\"reference internal\" href=\"#output\">Output</a>, <a class=\"reference internal\" href=\"#pretty-printing\">Pretty-printing</a>, <a class=\"reference internal\" href=\"#non-pretty-printing\">Non-pretty printing</a>, <a class=\"reference internal\" href=\"#output-formatters\">Output formatters</a>, <a class=\"reference internal\" href=\"#get-text\"><code class=\"docutils literal notranslate\"><span class=\"pre\">get_text()</span></code></a>, <a class=\"reference internal\" href=\"#specifying-the-parser-to-use\">Specifying the parser to use</a>, <a class=\"reference internal\" href=\"#differences-between-parsers\">Differences between parsers</a>, <a class=\"reference internal\" href=\"#encodings\">Encodings</a>, <a class=\"reference internal\" href=\"#output-encoding\">Output encoding</a>, <a class=\"reference internal\" href=\"#unicode-dammit\">Unicode, Dammit</a>, <a class=\"reference internal\" href=\"#smart-quotes\">Smart quotes</a>, <a class=\"reference internal\" href=\"#inconsistent-encodings\">Inconsistent encodings</a>, <a class=\"reference internal\" href=\"#line-numbers\">Line numbers</a>, <a class=\"reference internal\" href=\"#comparing-objects-for-equality\">Comparing objects for equality</a>, <a class=\"reference internal\" href=\"#copying-beautiful-soup-objects\">Copying Beautiful Soup objects</a>, <a class=\"reference internal\" href=\"#parsing-only-part-of-a-document\">Parsing only part of a document</a>, <a class=\"reference internal\" href=\"#soupstrainer\"><code class=\"docutils literal notranslate\"><span class=\"pre\">SoupStrainer</span></code></a>, <a class=\"reference internal\" href=\"#troubleshooting\">Troubleshooting</a>, <a class=\"reference internal\" href=\"#diagnose\"><code class=\"docutils literal notranslate\"><span class=\"pre\">diagnose()</span></code></a>, <a class=\"reference internal\" href=\"#errors-when-parsing-a-document\">Errors when parsing a document</a>, <a class=\"reference internal\" href=\"#version-mismatch-problems\">Version mismatch problems</a>, <a class=\"reference internal\" href=\"#parsing-xml\">Parsing XML</a>, <a class=\"reference internal\" href=\"#other-parser-problems\">Other parser problems</a>, <a class=\"reference internal\" href=\"#miscellaneous\">Miscellaneous</a>, <a class=\"reference internal\" href=\"#improving-performance\">Improving Performance</a>, <a class=\"reference internal\" href=\"#translating-this-documentation\">Translating this documentation</a>, <a class=\"reference internal\" href=\"#id18\">Beautiful Soup 3</a>, <a class=\"reference internal\" href=\"#porting-code-to-bs4\">Porting code to BS4</a>, <a class=\"reference internal\" href=\"#you-need-a-parser\">You need a parser</a>, <a class=\"reference internal\" href=\"#method-names\">Method names</a>, <a class=\"reference internal\" href=\"#generators\">Generators</a>, <a class=\"reference internal\" href=\"#xml\">XML</a>, <a class=\"reference internal\" href=\"#entities\">Entities</a>, <a class=\"reference internal\" href=\"#id19\">Miscellaneous</a>, <a href=\"#\">Beautiful Soup</a>, <a href=\"#\">Docs</a>, <a href=\"_sources/index.rst.txt\" rel=\"nofollow\"> View page source</a>, <a class=\"headerlink\" href=\"#beautiful-soup-documentation\" title=\"Permalink to this headline\">Â¶</a>, <a class=\"reference external\" href=\"http://www.crummy.com/software/BeautifulSoup/\">Beautiful Soup</a>, <a class=\"reference external\" href=\"http://www.crummy.com/software/BeautifulSoup/bs3/documentation.html\">Beautiful Soup 3</a>, <a class=\"reference internal\" href=\"#porting-code-to-bs4\">Porting code to BS4</a>, <a class=\"reference external\" href=\"https://www.crummy.com/software/BeautifulSoup/bs4/doc.zh/\">è¿ç¯ææ¡£å½ç¶è¿æä¸­æç.</a>, <a class=\"reference external\" href=\"http://kondou.com/BS4/\">å¤é¨ãªã³ã¯</a>, <a class=\"reference external\" href=\"https://www.crummy.com/software/BeautifulSoup/bs4/doc.ko/\">ì´ ë¬¸ìë íêµ­ì´ ë²ì­ë ê°ë¥í©ëë¤.</a>, <a class=\"reference external\" href=\"https://www.crummy.com/software/BeautifulSoup/bs4/doc.ptbr/\">Este documento tambÃ©m estÃ¡ disponÃ­vel em PortuguÃªs do Brasil.</a>, <a class=\"headerlink\" href=\"#getting-help\" title=\"Permalink to this headline\">Â¶</a>, <a class=\"reference external\" href=\"https://groups.google.com/forum/?fromgroups#!forum/beautifulsoup\">send mail to the discussion group</a>, <a class=\"reference internal\" href=\"#diagnose\"><span class=\"std std-ref\">what the diagnose() function says</span></a>, <a class=\"headerlink\" href=\"#quick-start\" title=\"Permalink to this headline\">Â¶</a>, <a class=\"headerlink\" href=\"#installing-beautiful-soup\" title=\"Permalink to this headline\">Â¶</a>, <a class=\"reference external\" href=\"http://www.crummy.com/software/BeautifulSoup/bs3/documentation.html\">Beautiful Soup 3</a>, <a class=\"reference external\" href=\"http://www.crummy.com/software/BeautifulSoup/download/4.x/\">download the Beautiful Soup 4 source tarball</a>, <a class=\"headerlink\" href=\"#problems-after-installation\" title=\"Permalink to this headline\">Â¶</a>, <a class=\"headerlink\" href=\"#installing-a-parser\" title=\"Permalink to this headline\">Â¶</a>, <a class=\"reference external\" href=\"http://lxml.de/\">lxml parser</a>, <a class=\"reference external\" href=\"http://code.google.com/p/html5lib/\">html5lib parser</a>, <a class=\"reference internal\" href=\"#differences-between-parsers\">Differences\n",
      "between parsers</a>, <a class=\"headerlink\" href=\"#making-the-soup\" title=\"Permalink to this headline\">Â¶</a>, <a class=\"reference internal\" href=\"#id17\">Parsing XML</a>, <a class=\"headerlink\" href=\"#kinds-of-objects\" title=\"Permalink to this headline\">Â¶</a>, <a class=\"headerlink\" href=\"#tag\" title=\"Permalink to this headline\">Â¶</a>, <a class=\"reference internal\" href=\"#navigating-the-tree\">Navigating the tree</a>, <a class=\"reference internal\" href=\"#searching-the-tree\">Searching the tree</a>, <a class=\"headerlink\" href=\"#name\" title=\"Permalink to this headline\">Â¶</a>, <a class=\"headerlink\" href=\"#attributes\" title=\"Permalink to this headline\">Â¶</a>, <a class=\"headerlink\" href=\"#multi-valued-attributes\" title=\"Permalink to this headline\">Â¶</a>, <a class=\"headerlink\" href=\"#navigablestring\" title=\"Permalink to this headline\">Â¶</a>, <a class=\"reference internal\" href=\"#navigating-the-tree\">Navigating\n",
      "the tree</a>, <a class=\"reference internal\" href=\"#searching-the-tree\">Searching the tree</a>, <a class=\"reference internal\" href=\"#replace-with\"><span class=\"std std-ref\">replace_with()</span></a>, <a class=\"reference internal\" href=\"#navigating-the-tree\">Navigating the tree</a>, <a class=\"reference internal\" href=\"#searching-the-tree\">Searching the tree</a>, <a class=\"headerlink\" href=\"#beautifulsoup\" title=\"Permalink to this headline\">Â¶</a>, <a class=\"reference internal\" href=\"#tag\"><span class=\"std std-ref\">Tag</span></a>, <a class=\"reference internal\" href=\"#navigating-the-tree\">Navigating the tree</a>, <a class=\"reference internal\" href=\"#searching-the-tree\">Searching the tree</a>, <a class=\"reference internal\" href=\"#modifying-the-tree\">Modifying the tree</a>, <a class=\"reference internal\" href=\"#tag\"><span class=\"std std-ref\">Tag</span></a>, <a class=\"headerlink\" href=\"#comments-and-other-special-strings\" title=\"Permalink to this headline\">Â¶</a>, <a class=\"headerlink\" href=\"#navigating-the-tree\" title=\"Permalink to this headline\">Â¶</a>, <a class=\"headerlink\" href=\"#going-down\" title=\"Permalink to this headline\">Â¶</a>, <a class=\"headerlink\" href=\"#navigating-using-tag-names\" title=\"Permalink to this headline\">Â¶</a>, <a class=\"reference internal\" href=\"#searching-the-tree\">Searching the tree</a>, <a class=\"headerlink\" href=\"#contents-and-children\" title=\"Permalink to this headline\">Â¶</a>, <a class=\"headerlink\" href=\"#descendants\" title=\"Permalink to this headline\">Â¶</a>, <a class=\"headerlink\" href=\"#string\" title=\"Permalink to this headline\">Â¶</a>, <a class=\"headerlink\" href=\"#strings-and-stripped-strings\" title=\"Permalink to this headline\">Â¶</a>, <a class=\"headerlink\" href=\"#going-up\" title=\"Permalink to this headline\">Â¶</a>, <a class=\"headerlink\" href=\"#parent\" title=\"Permalink to this headline\">Â¶</a>, <a class=\"headerlink\" href=\"#parents\" title=\"Permalink to this headline\">Â¶</a>, <a class=\"headerlink\" href=\"#going-sideways\" title=\"Permalink to this headline\">Â¶</a>, <a class=\"headerlink\" href=\"#next-sibling-and-previous-sibling\" title=\"Permalink to this headline\">Â¶</a>, <a class=\"headerlink\" href=\"#next-siblings-and-previous-siblings\" title=\"Permalink to this headline\">Â¶</a>, <a class=\"headerlink\" href=\"#going-back-and-forth\" title=\"Permalink to this headline\">Â¶</a>, <a class=\"headerlink\" href=\"#next-element-and-previous-element\" title=\"Permalink to this headline\">Â¶</a>, <a class=\"headerlink\" href=\"#next-elements-and-previous-elements\" title=\"Permalink to this headline\">Â¶</a>, <a class=\"headerlink\" href=\"#searching-the-tree\" title=\"Permalink to this headline\">Â¶</a>, <a class=\"headerlink\" href=\"#kinds-of-filters\" title=\"Permalink to this headline\">Â¶</a>, <a class=\"headerlink\" href=\"#a-string\" title=\"Permalink to this headline\">Â¶</a>, <a class=\"headerlink\" href=\"#a-regular-expression\" title=\"Permalink to this headline\">Â¶</a>, <a class=\"headerlink\" href=\"#a-list\" title=\"Permalink to this headline\">Â¶</a>, <a class=\"headerlink\" href=\"#true\" title=\"Permalink to this headline\">Â¶</a>, <a class=\"headerlink\" href=\"#a-function\" title=\"Permalink to this headline\">Â¶</a>, <a class=\"headerlink\" href=\"#find-all\" title=\"Permalink to this headline\">Â¶</a>, <a class=\"reference internal\" href=\"#id11\"><span class=\"std std-ref\">name</span></a>, <a class=\"reference internal\" href=\"#attrs\"><span class=\"std std-ref\">attrs</span></a>, <a class=\"reference internal\" href=\"#recursive\"><span class=\"std std-ref\">recursive</span></a>, <a class=\"reference internal\" href=\"#id12\"><span class=\"std std-ref\">string</span></a>, <a class=\"reference internal\" href=\"#limit\"><span class=\"std std-ref\">limit</span></a>, <a class=\"reference internal\" href=\"#kwargs\"><span class=\"std std-ref\">**kwargs</span></a>, <a class=\"reference internal\" href=\"#kinds-of-filters\">Kinds of filters</a>, <a class=\"headerlink\" href=\"#the-name-argument\" title=\"Permalink to this headline\">Â¶</a>, <a class=\"reference internal\" href=\"#kinds-of-filters\">Kinds of filters</a>, <a class=\"reference internal\" href=\"#a-string\">a\n",
      "string</a>, <a class=\"reference internal\" href=\"#a-regular-expression\">a regular expression</a>, <a class=\"reference internal\" href=\"#a-list\">a list</a>, <a class=\"reference internal\" href=\"#a-function\">a function</a>, <a class=\"reference internal\" href=\"#the-value-true\">the value\n",
      "True</a>, <a class=\"headerlink\" href=\"#the-keyword-arguments\" title=\"Permalink to this headline\">Â¶</a>, <a class=\"reference internal\" href=\"#a-string\">a string</a>, <a class=\"reference internal\" href=\"#a-regular-expression\">a regular\n",
      "expression</a>, <a class=\"reference internal\" href=\"#a-list\">a list</a>, <a class=\"reference internal\" href=\"#a-function\">a function</a>, <a class=\"reference internal\" href=\"#the-value-true\">the value True</a>, <a class=\"headerlink\" href=\"#searching-by-css-class\" title=\"Permalink to this headline\">Â¶</a>, <a class=\"reference internal\" href=\"#multivalue\"><span class=\"std std-ref\">Remember</span></a>, <a class=\"headerlink\" href=\"#the-string-argument\" title=\"Permalink to this headline\">Â¶</a>, <a class=\"reference internal\" href=\"#a-string\">a string</a>, <a class=\"reference internal\" href=\"#a-regular-expression\">a\n",
      "regular expression</a>, <a class=\"reference internal\" href=\"#a-list\">a list</a>, <a class=\"reference internal\" href=\"#a-function\">a function</a>, <a class=\"reference internal\" href=\"#the-value-true\">the value True</a>, <a class=\"headerlink\" href=\"#the-limit-argument\" title=\"Permalink to this headline\">Â¶</a>, <a class=\"headerlink\" href=\"#the-recursive-argument\" title=\"Permalink to this headline\">Â¶</a>, <a class=\"headerlink\" href=\"#calling-a-tag-is-like-calling-find-all\" title=\"Permalink to this headline\">Â¶</a>, <a class=\"headerlink\" href=\"#find\" title=\"Permalink to this headline\">Â¶</a>, <a class=\"reference internal\" href=\"#id11\"><span class=\"std std-ref\">name</span></a>, <a class=\"reference internal\" href=\"#attrs\"><span class=\"std std-ref\">attrs</span></a>, <a class=\"reference internal\" href=\"#recursive\"><span class=\"std std-ref\">recursive</span></a>, <a class=\"reference internal\" href=\"#id12\"><span class=\"std std-ref\">string</span></a>, <a class=\"reference internal\" href=\"#kwargs\"><span class=\"std std-ref\">**kwargs</span></a>, <a class=\"reference internal\" href=\"#navigating-using-tag-names\">Navigating using tag\n",
      "names</a>, <a class=\"headerlink\" href=\"#find-parents-and-find-parent\" title=\"Permalink to this headline\">Â¶</a>, <a class=\"reference internal\" href=\"#id11\"><span class=\"std std-ref\">name</span></a>, <a class=\"reference internal\" href=\"#attrs\"><span class=\"std std-ref\">attrs</span></a>, <a class=\"reference internal\" href=\"#id12\"><span class=\"std std-ref\">string</span></a>, <a class=\"reference internal\" href=\"#limit\"><span class=\"std std-ref\">limit</span></a>, <a class=\"reference internal\" href=\"#kwargs\"><span class=\"std std-ref\">**kwargs</span></a>, <a class=\"reference internal\" href=\"#id11\"><span class=\"std std-ref\">name</span></a>, <a class=\"reference internal\" href=\"#attrs\"><span class=\"std std-ref\">attrs</span></a>, <a class=\"reference internal\" href=\"#id12\"><span class=\"std std-ref\">string</span></a>, <a class=\"reference internal\" href=\"#kwargs\"><span class=\"std std-ref\">**kwargs</span></a>, <a class=\"reference internal\" href=\"#parent\">.parent</a>, <a class=\"reference internal\" href=\"#parents\">.parents</a>, <a class=\"headerlink\" href=\"#find-next-siblings-and-find-next-sibling\" title=\"Permalink to this headline\">Â¶</a>, <a class=\"reference internal\" href=\"#id11\"><span class=\"std std-ref\">name</span></a>, <a class=\"reference internal\" href=\"#attrs\"><span class=\"std std-ref\">attrs</span></a>, <a class=\"reference internal\" href=\"#id12\"><span class=\"std std-ref\">string</span></a>, <a class=\"reference internal\" href=\"#limit\"><span class=\"std std-ref\">limit</span></a>, <a class=\"reference internal\" href=\"#kwargs\"><span class=\"std std-ref\">**kwargs</span></a>, <a class=\"reference internal\" href=\"#id11\"><span class=\"std std-ref\">name</span></a>, <a class=\"reference internal\" href=\"#attrs\"><span class=\"std std-ref\">attrs</span></a>, <a class=\"reference internal\" href=\"#id12\"><span class=\"std std-ref\">string</span></a>, <a class=\"reference internal\" href=\"#kwargs\"><span class=\"std std-ref\">**kwargs</span></a>, <a class=\"reference internal\" href=\"#sibling-generators\"><span class=\"std std-ref\">.next_siblings</span></a>, <a class=\"headerlink\" href=\"#find-previous-siblings-and-find-previous-sibling\" title=\"Permalink to this headline\">Â¶</a>, <a class=\"reference internal\" href=\"#id11\"><span class=\"std std-ref\">name</span></a>, <a class=\"reference internal\" href=\"#attrs\"><span class=\"std std-ref\">attrs</span></a>, <a class=\"reference internal\" href=\"#id12\"><span class=\"std std-ref\">string</span></a>, <a class=\"reference internal\" href=\"#limit\"><span class=\"std std-ref\">limit</span></a>, <a class=\"reference internal\" href=\"#kwargs\"><span class=\"std std-ref\">**kwargs</span></a>, <a class=\"reference internal\" href=\"#id11\"><span class=\"std std-ref\">name</span></a>, <a class=\"reference internal\" href=\"#attrs\"><span class=\"std std-ref\">attrs</span></a>, <a class=\"reference internal\" href=\"#id12\"><span class=\"std std-ref\">string</span></a>, <a class=\"reference internal\" href=\"#kwargs\"><span class=\"std std-ref\">**kwargs</span></a>, <a class=\"reference internal\" href=\"#sibling-generators\"><span class=\"std std-ref\">.previous_siblings</span></a>, <a class=\"headerlink\" href=\"#find-all-next-and-find-next\" title=\"Permalink to this headline\">Â¶</a>, <a class=\"reference internal\" href=\"#id11\"><span class=\"std std-ref\">name</span></a>, <a class=\"reference internal\" href=\"#attrs\"><span class=\"std std-ref\">attrs</span></a>, <a class=\"reference internal\" href=\"#id12\"><span class=\"std std-ref\">string</span></a>, <a class=\"reference internal\" href=\"#limit\"><span class=\"std std-ref\">limit</span></a>, <a class=\"reference internal\" href=\"#kwargs\"><span class=\"std std-ref\">**kwargs</span></a>, <a class=\"reference internal\" href=\"#id11\"><span class=\"std std-ref\">name</span></a>, <a class=\"reference internal\" href=\"#attrs\"><span class=\"std std-ref\">attrs</span></a>, <a class=\"reference internal\" href=\"#id12\"><span class=\"std std-ref\">string</span></a>, <a class=\"reference internal\" href=\"#kwargs\"><span class=\"std std-ref\">**kwargs</span></a>, <a class=\"reference internal\" href=\"#element-generators\"><span class=\"std std-ref\">.next_elements</span></a>, <a class=\"headerlink\" href=\"#find-all-previous-and-find-previous\" title=\"Permalink to this headline\">Â¶</a>, <a class=\"reference internal\" href=\"#id11\"><span class=\"std std-ref\">name</span></a>, <a class=\"reference internal\" href=\"#attrs\"><span class=\"std std-ref\">attrs</span></a>, <a class=\"reference internal\" href=\"#id12\"><span class=\"std std-ref\">string</span></a>, <a class=\"reference internal\" href=\"#limit\"><span class=\"std std-ref\">limit</span></a>, <a class=\"reference internal\" href=\"#kwargs\"><span class=\"std std-ref\">**kwargs</span></a>, <a class=\"reference internal\" href=\"#id11\"><span class=\"std std-ref\">name</span></a>, <a class=\"reference internal\" href=\"#attrs\"><span class=\"std std-ref\">attrs</span></a>, <a class=\"reference internal\" href=\"#id12\"><span class=\"std std-ref\">string</span></a>, <a class=\"reference internal\" href=\"#kwargs\"><span class=\"std std-ref\">**kwargs</span></a>, <a class=\"reference internal\" href=\"#element-generators\"><span class=\"std std-ref\">.previous_elements</span></a>, <a class=\"headerlink\" href=\"#css-selectors\" title=\"Permalink to this headline\">Â¶</a>, <a class=\"reference external\" href=\"https://facelessuser.github.io/soupsieve/\">SoupSieve</a>, <a class=\"reference external\" href=\"https://facelessuser.github.io/soupsieve/\">documentation</a>, <a class=\"headerlink\" href=\"#modifying-the-tree\" title=\"Permalink to this headline\">Â¶</a>, <a class=\"headerlink\" href=\"#changing-tag-names-and-attributes\" title=\"Permalink to this headline\">Â¶</a>, <a class=\"reference internal\" href=\"#attributes\">Attributes</a>, <a class=\"headerlink\" href=\"#modifying-string\" title=\"Permalink to this headline\">Â¶</a>, <a class=\"headerlink\" href=\"#append\" title=\"Permalink to this headline\">Â¶</a>, <a class=\"headerlink\" href=\"#extend\" title=\"Permalink to this headline\">Â¶</a>, <a class=\"headerlink\" href=\"#navigablestring-and-new-tag\" title=\"Permalink to this headline\">Â¶</a>, <a class=\"headerlink\" href=\"#insert\" title=\"Permalink to this headline\">Â¶</a>, <a class=\"headerlink\" href=\"#insert-before-and-insert-after\" title=\"Permalink to this headline\">Â¶</a>, <a class=\"headerlink\" href=\"#clear\" title=\"Permalink to this headline\">Â¶</a>, <a class=\"headerlink\" href=\"#extract\" title=\"Permalink to this headline\">Â¶</a>, <a class=\"headerlink\" href=\"#decompose\" title=\"Permalink to this headline\">Â¶</a>, <a class=\"headerlink\" href=\"#replace-with\" title=\"Permalink to this headline\">Â¶</a>, <a class=\"headerlink\" href=\"#wrap\" title=\"Permalink to this headline\">Â¶</a>, <a class=\"headerlink\" href=\"#unwrap\" title=\"Permalink to this headline\">Â¶</a>, <a class=\"headerlink\" href=\"#smooth\" title=\"Permalink to this headline\">Â¶</a>, <a class=\"headerlink\" href=\"#output\" title=\"Permalink to this headline\">Â¶</a>, <a class=\"headerlink\" href=\"#pretty-printing\" title=\"Permalink to this headline\">Â¶</a>, <a class=\"headerlink\" href=\"#non-pretty-printing\" title=\"Permalink to this headline\">Â¶</a>, <a class=\"reference internal\" href=\"#encodings\">Encodings</a>, <a class=\"headerlink\" href=\"#output-formatters\" title=\"Permalink to this headline\">Â¶</a>, <a class=\"headerlink\" href=\"#get-text\" title=\"Permalink to this headline\">Â¶</a>, <a class=\"reference internal\" href=\"#string-generators\"><span class=\"std std-ref\">.stripped_strings</span></a>, <a class=\"headerlink\" href=\"#specifying-the-parser-to-use\" title=\"Permalink to this headline\">Â¶</a>, <a class=\"reference internal\" href=\"#installing-a-parser\">Installing a parser</a>, <a class=\"headerlink\" href=\"#differences-between-parsers\" title=\"Permalink to this headline\">Â¶</a>, <a class=\"headerlink\" href=\"#encodings\" title=\"Permalink to this headline\">Â¶</a>, <a class=\"reference internal\" href=\"#unicode-dammit\">Unicode, Dammit</a>, <a class=\"headerlink\" href=\"#output-encoding\" title=\"Permalink to this headline\">Â¶</a>, <a class=\"headerlink\" href=\"#unicode-dammit\" title=\"Permalink to this headline\">Â¶</a>, <a class=\"headerlink\" href=\"#smart-quotes\" title=\"Permalink to this headline\">Â¶</a>, <a class=\"headerlink\" href=\"#inconsistent-encodings\" title=\"Permalink to this headline\">Â¶</a>, <a class=\"headerlink\" href=\"#line-numbers\" title=\"Permalink to this headline\">Â¶</a>, <a class=\"headerlink\" href=\"#comparing-objects-for-equality\" title=\"Permalink to this headline\">Â¶</a>, <a class=\"headerlink\" href=\"#copying-beautiful-soup-objects\" title=\"Permalink to this headline\">Â¶</a>, <a class=\"headerlink\" href=\"#parsing-only-part-of-a-document\" title=\"Permalink to this headline\">Â¶</a>, <a class=\"headerlink\" href=\"#soupstrainer\" title=\"Permalink to this headline\">Â¶</a>, <a class=\"reference internal\" href=\"#searching-the-tree\">Searching the tree</a>, <a class=\"reference internal\" href=\"#id11\"><span class=\"std std-ref\">name</span></a>, <a class=\"reference internal\" href=\"#attrs\"><span class=\"std std-ref\">attrs</span></a>, <a class=\"reference internal\" href=\"#id12\"><span class=\"std std-ref\">string</span></a>, <a class=\"reference internal\" href=\"#kwargs\"><span class=\"std std-ref\">**kwargs</span></a>, <a class=\"reference internal\" href=\"#searching-the-tree\">Searching the tree</a>, <a class=\"headerlink\" href=\"#troubleshooting\" title=\"Permalink to this headline\">Â¶</a>, <a class=\"headerlink\" href=\"#diagnose\" title=\"Permalink to this headline\">Â¶</a>, <a class=\"headerlink\" href=\"#errors-when-parsing-a-document\" title=\"Permalink to this headline\">Â¶</a>, <a class=\"reference internal\" href=\"#installing-a-parser\">Installing a parser</a>, <a class=\"reference internal\" href=\"#parser-installation\"><span class=\"std std-ref\">install lxml or\n",
      "html5lib.</span></a>, <a class=\"reference internal\" href=\"#parser-installation\"><span class=\"std std-ref\">install lxml or html5lib.</span></a>, <a class=\"headerlink\" href=\"#version-mismatch-problems\" title=\"Permalink to this headline\">Â¶</a>, <a class=\"headerlink\" href=\"#parsing-xml\" title=\"Permalink to this headline\">Â¶</a>, <a class=\"reference internal\" href=\"#parser-installation\"><span class=\"std std-ref\">have lxml installed</span></a>, <a class=\"headerlink\" href=\"#other-parser-problems\" title=\"Permalink to this headline\">Â¶</a>, <a class=\"reference internal\" href=\"#differences-between-parsers\">Differences between parsers</a>, <a class=\"reference external\" href=\"http://www.w3.org/TR/html5/syntax.html#syntax\">HTML tags and attributes are case-insensitive</a>, <a class=\"reference internal\" href=\"#parsing-xml\"><span class=\"std std-ref\">parse the document as XML.</span></a>, <a class=\"headerlink\" href=\"#miscellaneous\" title=\"Permalink to this headline\">Â¶</a>, <a class=\"reference external\" href=\"http://wiki.python.org/moin/PrintFails\">this page on the Python wiki</a>, <a class=\"headerlink\" href=\"#improving-performance\" title=\"Permalink to this headline\">Â¶</a>, <a class=\"reference external\" href=\"http://lxml.de/\">lxml</a>, <a class=\"reference internal\" href=\"#parser-installation\"><span class=\"std std-ref\">start</span></a>, <a class=\"reference external\" href=\"http://pypi.python.org/pypi/cchardet/\">cchardet</a>, <a class=\"reference internal\" href=\"#parsing-only-part-of-a-document\">Parsing only part of a document</a>, <a class=\"headerlink\" href=\"#translating-this-documentation\" title=\"Permalink to this headline\">Â¶</a>, <a class=\"headerlink\" href=\"#id18\" title=\"Permalink to this headline\">Â¶</a>, <a class=\"reference external\" href=\"http://www.crummy.com/software/BeautifulSoup/bs3/download/3.x/BeautifulSoup-3.2.0.tar.gz\">download a tarball of Beautiful Soup 3.2.0</a>, <a class=\"reference external\" href=\"http://www.crummy.com/software/BeautifulSoup/bs3/documentation.html\">The documentation for Beautiful Soup 3 is archived online</a>, <a class=\"headerlink\" href=\"#porting-code-to-bs4\" title=\"Permalink to this headline\">Â¶</a>, <a class=\"reference external\" href=\"http://www.python.org/dev/peps/pep-0008/\">PEP 8 compliance</a>, <a class=\"headerlink\" href=\"#you-need-a-parser\" title=\"Permalink to this headline\">Â¶</a>, <a class=\"reference internal\" href=\"#installing-a-parser\">Installing a parser</a>, <a class=\"headerlink\" href=\"#method-names\" title=\"Permalink to this headline\">Â¶</a>, <a class=\"headerlink\" href=\"#generators\" title=\"Permalink to this headline\">Â¶</a>, <a class=\"reference internal\" href=\"#string-generators\"><span class=\"std std-ref\">.strings and\n",
      ".stripped_strings</span></a>, <a class=\"headerlink\" href=\"#xml\" title=\"Permalink to this headline\">Â¶</a>, <a class=\"headerlink\" href=\"#entities\" title=\"Permalink to this headline\">Â¶</a>, <a class=\"reference internal\" href=\"#unicode-dammit\">Unicode,\n",
      "Dammit</a>, <a class=\"reference internal\" href=\"#output-formatters\"><span class=\"std std-ref\">output formatter</span></a>, <a class=\"headerlink\" href=\"#id19\" title=\"Permalink to this headline\">Â¶</a>, <a class=\"reference internal\" href=\"#string\"><span class=\"std std-ref\">Tag.string</span></a>, <a class=\"reference internal\" href=\"#multi-valued-attributes\">Multi-valued attributes</a>, <a class=\"reference internal\" href=\"#id12\"><span class=\"std std-ref\">string</span></a>, <a class=\"reference internal\" href=\"#id11\"><span class=\"std std-ref\">name</span></a>, <a class=\"reference internal\" href=\"#string\"><span class=\"std std-ref\">Tag.string</span></a>, <a class=\"reference internal\" href=\"#id12\"><span class=\"std std-ref\">string</span></a>, <a href=\"http://sphinx-doc.org/\">Sphinx</a>, <a href=\"https://github.com/rtfd/sphinx_rtd_theme\">theme</a>, <a href=\"https://readthedocs.org\">Read the Docs</a>, <a href=\"/en/latest/\">latest</a>, <a href=\"//readthedocs.org/projects/beautiful-soup-4/downloads/pdf/latest/\">pdf</a>, <a href=\"//readthedocs.org/projects/beautiful-soup-4/downloads/htmlzip/latest/\">html</a>, <a href=\"//readthedocs.org/projects/beautiful-soup-4/downloads/epub/latest/\">epub</a>, <a href=\"//readthedocs.org/projects/beautiful-soup-4/?fromdocs=beautiful-soup-4\">Project Home</a>, <a href=\"//readthedocs.org/builds/beautiful-soup-4/?fromdocs=beautiful-soup-4\">Builds</a>, <a href=\"http://www.readthedocs.org\">Read the Docs</a>]\n"
     ]
    }
   ],
   "source": [
    "var_9 = soup.select(\"a[href='#installing-beautiful-soup']\")\n",
    "print(var_9)"
   ]
  },
  {
   "cell_type": "code",
   "execution_count": null,
   "id": "6d4b8ff1",
   "metadata": {},
   "outputs": [],
   "source": []
  }
 ],
 "metadata": {
  "kernelspec": {
   "display_name": "Python 3 (ipykernel)",
   "language": "python",
   "name": "python3"
  },
  "language_info": {
   "codemirror_mode": {
    "name": "ipython",
    "version": 3
   },
   "file_extension": ".py",
   "mimetype": "text/x-python",
   "name": "python",
   "nbconvert_exporter": "python",
   "pygments_lexer": "ipython3",
   "version": "3.9.12"
  }
 },
 "nbformat": 4,
 "nbformat_minor": 5
}
