{
 "cells": [
  {
   "cell_type": "code",
   "execution_count": 2,
   "id": "5e159f8c",
   "metadata": {},
   "outputs": [],
   "source": [
    "import requests as rq\n",
    "from bs4 import BeautifulSoup as bs"
   ]
  },
  {
   "cell_type": "code",
   "execution_count": 3,
   "id": "4a9f68cf",
   "metadata": {},
   "outputs": [],
   "source": [
    "url = \"https://coinmarketcap.com\""
   ]
  },
  {
   "cell_type": "markdown",
   "id": "674a2ad0",
   "metadata": {},
   "source": [
    "Scraping from crypto site and follower/post counting\n",
    "Posted yesterday\n",
    "Worldwide\n",
    "Hello,\n",
    "\n",
    "I need a crawler a) that crawls a range of coins on coinmarketcap.com and goes to the detail page where the following information should be scraped and b) that goes to telegram and does some content counting. Both then should be saved to a SQL database. It should be possible to run several instances of the script at the same time without conflicts.\n",
    "\n",
    "Data from coinmarketcap\n",
    "=======================\n",
    "Date (Date format: DD.MM.YYYY) [date]\n",
    "Time (Time format: HH:MM in 24h notation) [time]\n",
    "Coinmarketcap-ID (e.g. Bitcoin = 1, ETH = 2, Tether = 3...) [cmc-id]\n",
    "Coin Symbol (e.g. BTC, ETH) [symbol]\n",
    "Coin Name (e.g. Bitcoin, Ethereum) [coinname]\n",
    "Telegram Channel\n",
    "Reddit Channel\n",
    "Twitter Channel\n",
    "\n",
    "Data from SocMed Channels\n",
    "=========================\n",
    "Telegram - Number of subscribers to the channel [tg_subscribers]\n",
    "Telegram - Number of posts today [tg_posts_today]\n",
    "Twitter - Number of subscribers to the channel [tw_subscribers]\n",
    "Reddit - Number of members to the channel [red_subscribers]\n",
    "Reddit - Number of members online [red_subsc_online]\n",
    "\n",
    "Script Inputs\n",
    "=============\n",
    "- ID Ranges to be crawled (e.g. to only scrape the first 100 big coins)\n",
    "- Timeout between coins in msec (if there is a crawling protection on coinmarketcap)\n",
    "- Database credentials\n",
    "\n",
    "Script Outputs\n",
    "==============\n",
    "The script will be called daily and should append the data to an existing table in a SQL database. The field names are above in brackets, please use them as shown.\n",
    "\n",
    "Tech stack\n",
    "==========\n",
    "Windows Server 2019\n",
    "Python (Anaconda3 Distribution 02-2024)\n",
    "Beautiful Soup 4.12.2\n",
    "Microsoft SQL Server Express (local installation)\n",
    "\n",
    "Looking forward to your offers. If some aspects are more complicated than assumed, please give me a note with a short explanation for consideration."
   ]
  },
  {
   "cell_type": "markdown",
   "id": "db826043",
   "metadata": {},
   "source": [
    "## SOURCE: UPWORK"
   ]
  },
  {
   "cell_type": "code",
   "execution_count": 4,
   "id": "d33eca73",
   "metadata": {},
   "outputs": [],
   "source": [
    "resp = rq.get(url)"
   ]
  },
  {
   "cell_type": "code",
   "execution_count": 7,
   "id": "76eccb55",
   "metadata": {},
   "outputs": [],
   "source": [
    "soup = bs(resp.text,\"lxml\")"
   ]
  },
  {
   "cell_type": "code",
   "execution_count": 9,
   "id": "2581fa92",
   "metadata": {},
   "outputs": [
    {
     "data": {
      "text/plain": [
       "'Cryptocurrency Prices, Charts And Market Capitalizations | CoinMarketCap'"
      ]
     },
     "execution_count": 9,
     "metadata": {},
     "output_type": "execute_result"
    }
   ],
   "source": [
    "soup.title.text"
   ]
  }
 ],
 "metadata": {
  "kernelspec": {
   "display_name": "Python 3 (ipykernel)",
   "language": "python",
   "name": "python3"
  },
  "language_info": {
   "codemirror_mode": {
    "name": "ipython",
    "version": 3
   },
   "file_extension": ".py",
   "mimetype": "text/x-python",
   "name": "python",
   "nbconvert_exporter": "python",
   "pygments_lexer": "ipython3",
   "version": "3.11.4"
  }
 },
 "nbformat": 4,
 "nbformat_minor": 5
}
