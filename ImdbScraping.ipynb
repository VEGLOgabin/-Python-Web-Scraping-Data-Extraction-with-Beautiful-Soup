{
 "cells": [
  {
   "cell_type": "code",
   "execution_count": 1,
   "id": "7beed589",
   "metadata": {},
   "outputs": [],
   "source": [
    "import requests\n",
    "from bs4 import BeautifulSoup"
   ]
  },
  {
   "cell_type": "code",
   "execution_count": 5,
   "id": "b71f2f83",
   "metadata": {},
   "outputs": [
    {
     "name": "stdout",
     "output_type": "stream",
     "text": [
      "<Response [200]>\n"
     ]
    }
   ],
   "source": [
    "url = \"https://www.imdb.com/chart/moviemeter?pf_rd_m=A2FGELUUNOQJNL&pf_rd_p=470df400-70d9-4f35-bb05-8646a1195842&pf_rd_r=TZPXBQXK8J4WBHVV1JZC&pf_rd_s=right-4&pf_rd_t=15506&pf_rd_i=top&ref_=chttp_ql_2\"\n",
    "response = requests.get(url)\n",
    "print(response)"
   ]
  },
  {
   "cell_type": "code",
   "execution_count": 7,
   "id": "5a514428",
   "metadata": {},
   "outputs": [],
   "source": [
    "soup = BeautifulSoup(response.text, 'lxml')"
   ]
  },
  {
   "cell_type": "code",
   "execution_count": 17,
   "id": "21efe106",
   "metadata": {},
   "outputs": [],
   "source": [
    "unorderedLists = soup.select(\".titleColumn a\")"
   ]
  },
  {
   "cell_type": "code",
   "execution_count": 19,
   "id": "239de225",
   "metadata": {},
   "outputs": [],
   "source": [
    "movieList = []\n",
    "for link in unorderedLists:\n",
    "    movieList.append(link.text)"
   ]
  },
  {
   "cell_type": "code",
   "execution_count": 22,
   "id": "63f23f76",
   "metadata": {},
   "outputs": [],
   "source": [
    "unorderedRatings = soup.select(\".imdbRating strong\")"
   ]
  },
  {
   "cell_type": "code",
   "execution_count": 23,
   "id": "33357f39",
   "metadata": {},
   "outputs": [],
   "source": [
    "ratingsList = []\n",
    "for rating in unorderedRatings:\n",
    "    ratingsList.append(rating.text)"
   ]
  },
  {
   "cell_type": "code",
   "execution_count": 27,
   "id": "79b8676d",
   "metadata": {},
   "outputs": [],
   "source": [
    "movieRecommendation = []\n",
    "for i in range (0, 20):\n",
    "    movie = {\n",
    "        \"name\": movieList[i],\n",
    "        \"rating\": ratingsList[i]\n",
    "    }\n",
    "    movieRecommendation.append(movie)"
   ]
  },
  {
   "cell_type": "code",
   "execution_count": 40,
   "id": "2af23b8f",
   "metadata": {},
   "outputs": [
    {
     "name": "stdout",
     "output_type": "stream",
     "text": [
      "1) The Little Mermaid - 7.0\n",
      "2) Fast X - 6.3\n",
      "3) Guardians of the Galaxy Vol. 3 - 8.2\n",
      "4) Killers of the Flower Moon - 9.8\n",
      "5) John Wick: Chapter 4 - 8.0\n",
      "6) Dungeons & Dragons: Honor Among Thieves - 7.3\n",
      "7) The Super Mario Bros. Movie - 7.2\n",
      "8) Ant-Man and the Wasp: Quantumania - 6.2\n",
      "9) Air - 7.5\n",
      "10) The Flash - 7.0\n",
      "11) Sisu - 5.6\n",
      "12) Barbie - 4.7\n",
      "13) The Mother - 7.5\n",
      "14) Indiana Jones and the Dial of Destiny - 6.7\n",
      "15) White Men Can't Jump - 6.9\n",
      "16) Guy Ritchie's The Covenant - 6.0\n",
      "17) Evil Dead Rise - 7.5\n",
      "18) The Machine - 6.9\n",
      "19) Shazam! Fury of the Gods - 6.6\n",
      "20) A Man Called Otto - 7.1\n"
     ]
    }
   ],
   "source": [
    "i = 1\n",
    "for movie in movieRecommendation:\n",
    "    print(f\"{i}) {movie['name']} - {movie['rating']}\")\n",
    "    i = i + 1"
   ]
  },
  {
   "cell_type": "code",
   "execution_count": null,
   "id": "14c6835c",
   "metadata": {},
   "outputs": [],
   "source": []
  }
 ],
 "metadata": {
  "kernelspec": {
   "display_name": "Python 3 (ipykernel)",
   "language": "python",
   "name": "python3"
  },
  "language_info": {
   "codemirror_mode": {
    "name": "ipython",
    "version": 3
   },
   "file_extension": ".py",
   "mimetype": "text/x-python",
   "name": "python",
   "nbconvert_exporter": "python",
   "pygments_lexer": "ipython3",
   "version": "3.11.4"
  }
 },
 "nbformat": 4,
 "nbformat_minor": 5
}
